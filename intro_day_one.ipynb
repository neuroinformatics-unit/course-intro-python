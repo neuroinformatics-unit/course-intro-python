{
 "cells": [
  {
   "metadata": {},
   "cell_type": "markdown",
   "source": "### Variables",
   "id": "1571c22b487bd85"
  },
  {
   "cell_type": "code",
   "id": "initial_id",
   "metadata": {
    "collapsed": true,
    "ExecuteTime": {
     "end_time": "2024-08-15T13:20:26.564311Z",
     "start_time": "2024-08-15T13:20:26.560541Z"
    }
   },
   "source": "",
   "outputs": [],
   "execution_count": 4
  },
  {
   "metadata": {},
   "cell_type": "markdown",
   "source": "## Data Types",
   "id": "8d42f1834f6c72f5"
  },
  {
   "metadata": {},
   "cell_type": "markdown",
   "source": [
    "### Find the type of:\n",
    "* 100\n",
    "* 'Dog'\n",
    "* print\n",
    "* False"
   ],
   "id": "b4ab9e6eb63b9d30"
  },
  {
   "metadata": {
    "ExecuteTime": {
     "end_time": "2024-08-15T13:20:27.804902Z",
     "start_time": "2024-08-15T13:20:27.803110Z"
    }
   },
   "cell_type": "code",
   "source": "",
   "id": "22fbcf52f40b7747",
   "outputs": [],
   "execution_count": 4
  },
  {
   "metadata": {},
   "cell_type": "markdown",
   "source": "### Strings",
   "id": "41eabf18ebf1ffe5"
  },
  {
   "metadata": {
    "ExecuteTime": {
     "end_time": "2024-08-15T13:20:28.447410Z",
     "start_time": "2024-08-15T13:20:28.445399Z"
    }
   },
   "cell_type": "code",
   "source": "",
   "id": "76387cd47f268c3a",
   "outputs": [],
   "execution_count": 4
  },
  {
   "metadata": {},
   "cell_type": "markdown",
   "source": "### Lists",
   "id": "8e61e91a7e256b20"
  },
  {
   "metadata": {
    "ExecuteTime": {
     "end_time": "2024-08-15T13:20:29.121784Z",
     "start_time": "2024-08-15T13:20:29.119604Z"
    }
   },
   "cell_type": "code",
   "source": "",
   "id": "656f796597b62451",
   "outputs": [],
   "execution_count": 4
  },
  {
   "metadata": {},
   "cell_type": "markdown",
   "source": "### Tuples",
   "id": "e505296c5aef20c3"
  },
  {
   "metadata": {},
   "cell_type": "markdown",
   "source": "",
   "id": "d7608020d49a2eb7"
  },
  {
   "metadata": {},
   "cell_type": "code",
   "outputs": [],
   "execution_count": null,
   "source": "",
   "id": "615c008ea8880834"
  },
  {
   "metadata": {},
   "cell_type": "markdown",
   "source": "### Dictionaries",
   "id": "a4f38cda0143948e"
  },
  {
   "metadata": {},
   "cell_type": "code",
   "outputs": [],
   "execution_count": null,
   "source": "",
   "id": "97cbf720ff94a751"
  },
  {
   "metadata": {},
   "cell_type": "markdown",
   "source": "### Deep vs Shallow Copy",
   "id": "8eb293eae382c2bc"
  },
  {
   "metadata": {},
   "cell_type": "code",
   "outputs": [],
   "execution_count": null,
   "source": "",
   "id": "74859f1090df8002"
  },
  {
   "metadata": {},
   "cell_type": "markdown",
   "source": "### Loops",
   "id": "6f5b8240e088fa91"
  },
  {
   "metadata": {},
   "cell_type": "code",
   "outputs": [],
   "execution_count": null,
   "source": "",
   "id": "bfbab44ecc256bff"
  },
  {
   "metadata": {},
   "cell_type": "markdown",
   "source": "### Conditional statements",
   "id": "137901eb1cc28f48"
  },
  {
   "metadata": {},
   "cell_type": "code",
   "outputs": [],
   "execution_count": null,
   "source": "",
   "id": "3fa8dcb91d801fc"
  },
  {
   "metadata": {},
   "cell_type": "markdown",
   "source": "### List Comprehensions",
   "id": "101607da67fa22ae"
  },
  {
   "metadata": {},
   "cell_type": "code",
   "outputs": [],
   "execution_count": null,
   "source": "",
   "id": "1ba6a9525cb7025e"
  },
  {
   "metadata": {},
   "cell_type": "markdown",
   "source": "### Dictionary Comprehensions",
   "id": "31880eb7b954d43"
  },
  {
   "metadata": {},
   "cell_type": "code",
   "outputs": [],
   "execution_count": null,
   "source": "",
   "id": "93c7143330498628"
  },
  {
   "metadata": {},
   "cell_type": "markdown",
   "source": "### Reading and Writing Text Files",
   "id": "4d48fd01cf05bd6d"
  },
  {
   "metadata": {},
   "cell_type": "code",
   "outputs": [],
   "execution_count": null,
   "source": "",
   "id": "717dfc5a46a60d94"
  }
 ],
 "metadata": {
  "kernelspec": {
   "display_name": "Python 3",
   "language": "python",
   "name": "python3"
  },
  "language_info": {
   "codemirror_mode": {
    "name": "ipython",
    "version": 2
   },
   "file_extension": ".py",
   "mimetype": "text/x-python",
   "name": "python",
   "nbconvert_exporter": "python",
   "pygments_lexer": "ipython2",
   "version": "2.7.6"
  }
 },
 "nbformat": 4,
 "nbformat_minor": 5
}
