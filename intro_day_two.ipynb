{
 "cells": [
  {
   "metadata": {},
   "cell_type": "markdown",
   "source": "### Python Standard Library",
   "id": "74c297b2120e5ec4"
  },
  {
   "cell_type": "code",
   "execution_count": null,
   "id": "initial_id",
   "metadata": {
    "collapsed": true
   },
   "outputs": [],
   "source": [
    ""
   ]
  },
  {
   "metadata": {},
   "cell_type": "markdown",
   "source": "### 3rd Party Libraries",
   "id": "d5bb57a6c7058be8"
  },
  {
   "metadata": {},
   "cell_type": "code",
   "outputs": [],
   "execution_count": null,
   "source": "",
   "id": "29402343f0efd886"
  },
  {
   "metadata": {},
   "cell_type": "markdown",
   "source": "### Functions",
   "id": "1b9075dd9f58b45c"
  },
  {
   "metadata": {},
   "cell_type": "code",
   "outputs": [],
   "execution_count": null,
   "source": "",
   "id": "cb0c0cdc9bd94725"
  },
  {
   "metadata": {},
   "cell_type": "markdown",
   "source": "### Objects",
   "id": "7e1fa041741169b9"
  },
  {
   "metadata": {
    "ExecuteTime": {
     "end_time": "2024-08-15T13:33:34.612141Z",
     "start_time": "2024-08-15T13:33:34.610722Z"
    }
   },
   "cell_type": "code",
   "source": "",
   "id": "e03aaa6e7d52a669",
   "outputs": [],
   "execution_count": null
  },
  {
   "metadata": {},
   "cell_type": "markdown",
   "source": "### Errors and Exceptions",
   "id": "23e116529fbe1a70"
  },
  {
   "metadata": {},
   "cell_type": "code",
   "outputs": [],
   "execution_count": null,
   "source": "",
   "id": "57d446de165dd5f7"
  },
  {
   "metadata": {},
   "cell_type": "markdown",
   "source": "",
   "id": "29d86b3e303474f6"
  }
 ],
 "metadata": {
  "kernelspec": {
   "display_name": "Python 3",
   "language": "python",
   "name": "python3"
  },
  "language_info": {
   "codemirror_mode": {
    "name": "ipython",
    "version": 2
   },
   "file_extension": ".py",
   "mimetype": "text/x-python",
   "name": "python",
   "nbconvert_exporter": "python",
   "pygments_lexer": "ipython2",
   "version": "2.7.6"
  }
 },
 "nbformat": 4,
 "nbformat_minor": 5
}
